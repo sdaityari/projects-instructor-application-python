{
 "cells": [
  {
   "cell_type": "markdown",
   "metadata": {
    "collapsed": true
   },
   "source": [
    "Welcome to your DataCamp project audition! This notebook must be filled out and vetted before a contract can be signed and you can start creating your project.\n",
    "\n",
    "The first step is forking the repository in which this notebook lives. After that, there are two parts to be completed in this notebook:\n",
    "\n",
    "- **Project information**:  The title of the project, a project description, etc.\n",
    "\n",
    "- **Project introduction**: The three first text and code cells that will form the introduction of your project.\n",
    "\n",
    "When complete, please email the link to your forked repo to projects@datacamp.com with the email subject line _DataCamp project audition_. If you have any questions, please reach out to projects@datacamp.com."
   ]
  },
  {
   "cell_type": "markdown",
   "metadata": {},
   "source": [
    "# Project information"
   ]
  },
  {
   "cell_type": "markdown",
   "metadata": {},
   "source": [
    "**Project title**: Explore FIFA 18 Players through Clustering.\n",
    "\n",
    "**Name:** Shaumik Daityari.\n",
    "\n",
    "**Email address associated with your DataCamp account:** sdaityari@gmail.com.\n",
    "\n",
    "**Project description**: \n",
    "FIFA 18 is one among a series of football simulation games developed by Electronic Arts. It contains a comprehensive catalog of all professional players that play the actual game. In this project, you will explore various attributes of players and arrange them into logical groups based on their in-game avatars.\n",
    "\n",
    "You will use the FIFA 18 players dataset for this project. The dataset contains player information from  FIFA 18. It contains three types of data for each player:\n",
    "\n",
    "- Player characterisitcs like club, height, weight, preferred position\n",
    "- In game football characteristics like dribbling and shooting ability\n",
    "- In game characterisitics and traits like leadership quality and ability to hit powerful free kicks\n",
    "\n",
    "To complete this course, knowledge on two techniques are recommended: handling data using the Pandas module and k-means clustering through SciPy. The courses [Intermiediate Python for Data Science](https://www.datacamp.com/courses/intermediate-python-for-data-science) and [Clustering Methods with SciPy](https://www.datacamp.com/courses/clustering-methods-with-scipy) would get you started on these concepts. \n",
    "\n",
    "Note: Interchanged the ideal position of paragraphs 2 and 3."
   ]
  },
  {
   "cell_type": "markdown",
   "metadata": {},
   "source": [
    "# Project introduction\n",
    "\n",
    "***Note: nothing needs to be filled out in this cell. It is simply setting up the template cells below.***\n",
    "\n",
    "The final output of a DataCamp project looks like a blog post: pairs of text and code cells that tell a story about data. The text is written from the perspective of the data analyst and *not* from the perspective of an instructor on DataCamp. So, for this blog post intro, all you need to do is pretend like you're writing a blog post -- forget the part about instructors and students.\n",
    "\n",
    "Below you'll see the structure of a DataCamp project: a series of \"tasks\" where each task consists of a title, a **single** text cell, and a **single** code cell. There are 8-12 tasks in a project and each task can have up to 10 lines of code. What you need to do:\n",
    "1. Read through the template structure.\n",
    "2. As best you can, divide your project as it is currently visualized in your mind into tasks.\n",
    "3. Fill out the template structure for the first three tasks of your project.\n",
    "\n",
    "As you are completing each task, you may wish to consult the project notebook format in our [documentation](https://instructor-support.datacamp.com/projects/datacamp-projects-jupyter-notebook). Only the `@context` and `@solution` cells are relevant to this audition."
   ]
  },
  {
   "cell_type": "markdown",
   "metadata": {},
   "source": [
    "## 1. Import the data"
   ]
  },
  {
   "cell_type": "markdown",
   "metadata": {},
   "source": [
    "FIFA 18 is a football simulation game that is published by Electronic Arts. While the overall statistic of a player signifies how good he is in the game, we will also explore the potential statistic and at what age, a player will likely hit their peak. Every game in the FIFA series typically has two game modes that have been common for a long time --- kick off, which is an instantaneous match between two teams, and career mode, where the player takes control of a team for a number of years. In the career mode, players develop and their statistics improve --- with younger players seeing a steeper jump in statistics over time. This is where the potential statistic comes into play.\n",
    "\n",
    "![FIFA 18]('img/fifa18.PNG')\n",
    "\n",
    "This analysis is going to involve a deep dive into a few questions that may have already struck you? Which attributes are essential for players at various positions in the field? At what age do players perform the best? How do wages and transfer values vary by position and age?\n",
    "\n",
    "The first step involves importing the CSV file of player attributes into a Pandas data frame and display the first few rows."
   ]
  },
  {
   "cell_type": "code",
   "execution_count": 1,
   "metadata": {},
   "outputs": [
    {
     "name": "stderr",
     "output_type": "stream",
     "text": [
      "F:\\Anaconda\\lib\\site-packages\\IPython\\core\\interactiveshell.py:2785: DtypeWarning: Columns (20,32) have mixed types. Specify dtype option on import or set low_memory=False.\n",
      "  interactivity=interactivity, compiler=compiler, result=result)\n"
     ]
    },
    {
     "data": {
      "text/html": [
       "<div>\n",
       "<style scoped>\n",
       "    .dataframe tbody tr th:only-of-type {\n",
       "        vertical-align: middle;\n",
       "    }\n",
       "\n",
       "    .dataframe tbody tr th {\n",
       "        vertical-align: top;\n",
       "    }\n",
       "\n",
       "    .dataframe thead th {\n",
       "        text-align: right;\n",
       "    }\n",
       "</style>\n",
       "<table border=\"1\" class=\"dataframe\">\n",
       "  <thead>\n",
       "    <tr style=\"text-align: right;\">\n",
       "      <th></th>\n",
       "      <th>Unnamed: 0</th>\n",
       "      <th>Name</th>\n",
       "      <th>Age</th>\n",
       "      <th>Nationality</th>\n",
       "      <th>Overall</th>\n",
       "      <th>Potential</th>\n",
       "      <th>Club</th>\n",
       "      <th>Value</th>\n",
       "      <th>Wage</th>\n",
       "      <th>Special</th>\n",
       "      <th>...</th>\n",
       "      <th>RB</th>\n",
       "      <th>RCB</th>\n",
       "      <th>RCM</th>\n",
       "      <th>RDM</th>\n",
       "      <th>RF</th>\n",
       "      <th>RM</th>\n",
       "      <th>RS</th>\n",
       "      <th>RW</th>\n",
       "      <th>RWB</th>\n",
       "      <th>ST</th>\n",
       "    </tr>\n",
       "  </thead>\n",
       "  <tbody>\n",
       "    <tr>\n",
       "      <th>0</th>\n",
       "      <td>0</td>\n",
       "      <td>Cristiano Ronaldo</td>\n",
       "      <td>32</td>\n",
       "      <td>Portugal</td>\n",
       "      <td>94</td>\n",
       "      <td>94</td>\n",
       "      <td>Real Madrid CF</td>\n",
       "      <td>€95.5M</td>\n",
       "      <td>€565K</td>\n",
       "      <td>2228</td>\n",
       "      <td>...</td>\n",
       "      <td>61.0</td>\n",
       "      <td>53.0</td>\n",
       "      <td>82.0</td>\n",
       "      <td>62.0</td>\n",
       "      <td>91.0</td>\n",
       "      <td>89.0</td>\n",
       "      <td>92.0</td>\n",
       "      <td>91.0</td>\n",
       "      <td>66.0</td>\n",
       "      <td>92.0</td>\n",
       "    </tr>\n",
       "    <tr>\n",
       "      <th>1</th>\n",
       "      <td>1</td>\n",
       "      <td>L. Messi</td>\n",
       "      <td>30</td>\n",
       "      <td>Argentina</td>\n",
       "      <td>93</td>\n",
       "      <td>93</td>\n",
       "      <td>FC Barcelona</td>\n",
       "      <td>€105M</td>\n",
       "      <td>€565K</td>\n",
       "      <td>2154</td>\n",
       "      <td>...</td>\n",
       "      <td>57.0</td>\n",
       "      <td>45.0</td>\n",
       "      <td>84.0</td>\n",
       "      <td>59.0</td>\n",
       "      <td>92.0</td>\n",
       "      <td>90.0</td>\n",
       "      <td>88.0</td>\n",
       "      <td>91.0</td>\n",
       "      <td>62.0</td>\n",
       "      <td>88.0</td>\n",
       "    </tr>\n",
       "    <tr>\n",
       "      <th>2</th>\n",
       "      <td>2</td>\n",
       "      <td>Neymar</td>\n",
       "      <td>25</td>\n",
       "      <td>Brazil</td>\n",
       "      <td>92</td>\n",
       "      <td>94</td>\n",
       "      <td>Paris Saint-Germain</td>\n",
       "      <td>€123M</td>\n",
       "      <td>€280K</td>\n",
       "      <td>2100</td>\n",
       "      <td>...</td>\n",
       "      <td>59.0</td>\n",
       "      <td>46.0</td>\n",
       "      <td>79.0</td>\n",
       "      <td>59.0</td>\n",
       "      <td>88.0</td>\n",
       "      <td>87.0</td>\n",
       "      <td>84.0</td>\n",
       "      <td>89.0</td>\n",
       "      <td>64.0</td>\n",
       "      <td>84.0</td>\n",
       "    </tr>\n",
       "    <tr>\n",
       "      <th>3</th>\n",
       "      <td>3</td>\n",
       "      <td>L. Suárez</td>\n",
       "      <td>30</td>\n",
       "      <td>Uruguay</td>\n",
       "      <td>92</td>\n",
       "      <td>92</td>\n",
       "      <td>FC Barcelona</td>\n",
       "      <td>€97M</td>\n",
       "      <td>€510K</td>\n",
       "      <td>2291</td>\n",
       "      <td>...</td>\n",
       "      <td>64.0</td>\n",
       "      <td>58.0</td>\n",
       "      <td>80.0</td>\n",
       "      <td>65.0</td>\n",
       "      <td>88.0</td>\n",
       "      <td>85.0</td>\n",
       "      <td>88.0</td>\n",
       "      <td>87.0</td>\n",
       "      <td>68.0</td>\n",
       "      <td>88.0</td>\n",
       "    </tr>\n",
       "    <tr>\n",
       "      <th>4</th>\n",
       "      <td>4</td>\n",
       "      <td>M. Neuer</td>\n",
       "      <td>31</td>\n",
       "      <td>Germany</td>\n",
       "      <td>92</td>\n",
       "      <td>92</td>\n",
       "      <td>FC Bayern Munich</td>\n",
       "      <td>€61M</td>\n",
       "      <td>€230K</td>\n",
       "      <td>1493</td>\n",
       "      <td>...</td>\n",
       "      <td>NaN</td>\n",
       "      <td>NaN</td>\n",
       "      <td>NaN</td>\n",
       "      <td>NaN</td>\n",
       "      <td>NaN</td>\n",
       "      <td>NaN</td>\n",
       "      <td>NaN</td>\n",
       "      <td>NaN</td>\n",
       "      <td>NaN</td>\n",
       "      <td>NaN</td>\n",
       "    </tr>\n",
       "  </tbody>\n",
       "</table>\n",
       "<p>5 rows × 72 columns</p>\n",
       "</div>"
      ],
      "text/plain": [
       "   Unnamed: 0               Name  Age Nationality  Overall  Potential  \\\n",
       "0           0  Cristiano Ronaldo   32    Portugal       94         94   \n",
       "1           1           L. Messi   30   Argentina       93         93   \n",
       "2           2             Neymar   25      Brazil       92         94   \n",
       "3           3          L. Suárez   30     Uruguay       92         92   \n",
       "4           4           M. Neuer   31     Germany       92         92   \n",
       "\n",
       "                  Club   Value   Wage  Special  ...     RB   RCB   RCM   RDM  \\\n",
       "0       Real Madrid CF  €95.5M  €565K     2228  ...   61.0  53.0  82.0  62.0   \n",
       "1         FC Barcelona   €105M  €565K     2154  ...   57.0  45.0  84.0  59.0   \n",
       "2  Paris Saint-Germain   €123M  €280K     2100  ...   59.0  46.0  79.0  59.0   \n",
       "3         FC Barcelona    €97M  €510K     2291  ...   64.0  58.0  80.0  65.0   \n",
       "4     FC Bayern Munich    €61M  €230K     1493  ...    NaN   NaN   NaN   NaN   \n",
       "\n",
       "     RF    RM    RS    RW   RWB    ST  \n",
       "0  91.0  89.0  92.0  91.0  66.0  92.0  \n",
       "1  92.0  90.0  88.0  91.0  62.0  88.0  \n",
       "2  88.0  87.0  84.0  89.0  64.0  84.0  \n",
       "3  88.0  85.0  88.0  87.0  68.0  88.0  \n",
       "4   NaN   NaN   NaN   NaN   NaN   NaN  \n",
       "\n",
       "[5 rows x 72 columns]"
      ]
     },
     "execution_count": 1,
     "metadata": {},
     "output_type": "execute_result"
    }
   ],
   "source": [
    "# Import the Pandas library as pd\n",
    "import pandas as pd\n",
    "\n",
    "# Use the read_csv() function of Pandas to create a data frame, fifa\n",
    "fifa = pd.read_csv('datasets/FIFA18.csv')\n",
    "\n",
    "fifa.head()"
   ]
  },
  {
   "cell_type": "markdown",
   "metadata": {},
   "source": [
    "## 2.  Explore and visualize data"
   ]
  },
  {
   "cell_type": "markdown",
   "metadata": {},
   "source": [
    "Next, we will explore the dataset that we just imported. Let us explore the dataset and visualize some data. First, we will see the number of rows and columns that the data contains using the `shape` attribute of the dataframe.\n",
    "\n",
    "Further, we will look at the distribution of players with respect to their Overall and Potential attributes. If you think about it, the potential attribute of a player can only be higher than or equal to their current overall attribute. Hence, the distribution of the potential attribute should be similar to the overall attribute, but with a shift towards the right along the x axis."
   ]
  },
  {
   "cell_type": "code",
   "execution_count": 2,
   "metadata": {},
   "outputs": [
    {
     "name": "stdout",
     "output_type": "stream",
     "text": [
      "The dimensions of the data are: (17981, 72)\n"
     ]
    },
    {
     "data": {
      "text/plain": [
       "<matplotlib.axes._subplots.AxesSubplot at 0xe042f58f60>"
      ]
     },
     "execution_count": 2,
     "metadata": {},
     "output_type": "execute_result"
    },
    {
     "data": {
      "image/png": "[encoded data removed]",
      "text/plain": [
       "<Figure size 432x288 with 1 Axes>"
      ]
     },
     "metadata": {},
     "output_type": "display_data"
    },
    {
     "data": {
      "image/png": "[encoded data removed]",
      "text/plain": [
       "<Figure size 432x288 with 1 Axes>"
      ]
     },
     "metadata": {},
     "output_type": "display_data"
    }
   ],
   "source": [
    "# Check the number of rows and columns\n",
    "print('The dimensions of the data are:', fifa.shape)\n",
    "\n",
    "# Enable matplotlib to show inline plots\n",
    "%matplotlib inline\n",
    "\n",
    "# Check the distribution of overall rating\n",
    "fifa.plot(y = 'Overall', kind = 'hist')\n",
    "\n",
    "# Check the distribution of overall rating\n",
    "fifa.plot(y = 'Potential', kind = 'hist')"
   ]
  },
  {
   "cell_type": "markdown",
   "metadata": {},
   "source": [
    "## 3. Convert Player Positions"
   ]
  },
  {
   "cell_type": "markdown",
   "metadata": {},
   "source": [
    "Next, we will create a Pandas column to store the position that a player plays in. We already have a column, \"Preferred Position\" --- but it contains one or more values separated by spaces. We will use a lambda function to extract only the first preferred position. (To do: We can modify this to select the preferred position where the overall of a player is the highest)\n",
    "\n",
    "Once we have mapped each player to a single position, let us check the number of players in each position by using the `.value_counts()` method of Pandas."
   ]
  },
  {
   "cell_type": "code",
   "execution_count": 3,
   "metadata": {},
   "outputs": [
    {
     "data": {
      "text/plain": [
       "CB     2705\n",
       "ST     2277\n",
       "GK     2029\n",
       "CM     1977\n",
       "CDM    1396\n",
       "RM     1350\n",
       "LM     1326\n",
       "LB     1309\n",
       "RB     1195\n",
       "CAM    1125\n",
       "RW      429\n",
       "LW      427\n",
       "CF      205\n",
       "LWB     120\n",
       "RWB     111\n",
       "Name: position, dtype: int64"
      ]
     },
     "execution_count": 3,
     "metadata": {},
     "output_type": "execute_result"
    }
   ],
   "source": [
    "# Check the distribution of player positions\n",
    "fifa['position'] = fifa['Preferred Positions'].apply(lambda positions: positions[:positions.find(' ')])\n",
    "\n",
    "# Print the distribution of player positions\n",
    "fifa['position'].value_counts()"
   ]
  },
  {
   "cell_type": "markdown",
   "metadata": {},
   "source": [
    "*Stop here! Only the three first tasks. :)*"
   ]
  },
  {
   "cell_type": "code",
   "execution_count": 4,
   "metadata": {},
   "outputs": [],
   "source": [
    "# Future code\n",
    "# def convert_value_to_int(value):\n",
    "#     if len(value) < 3:\n",
    "#         return 0\n",
    "\n",
    "#     value = value[1:]\n",
    "#     if value[-1:] == 'M':\n",
    "#         return float(value[:-1]) * 1000000\n",
    "#     else:\n",
    "#         return float(value[:-1]) * 1000\n",
    "\n",
    "# fifa['value_int'] = fifa['Value'].apply(convert_value_to_int)"
   ]
  }
 ],
 "metadata": {
  "kernelspec": {
   "display_name": "Python 3",
   "language": "python",
   "name": "python3"
  },
  "language_info": {
   "codemirror_mode": {
    "name": "ipython",
    "version": 3
   },
   "file_extension": ".py",
   "mimetype": "text/x-python",
   "name": "python",
   "nbconvert_exporter": "python",
   "pygments_lexer": "ipython3",
   "version": "3.6.5"
  }
 },
 "nbformat": 4,
 "nbformat_minor": 2
}
